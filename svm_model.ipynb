{
  "nbformat": 4,
  "nbformat_minor": 0,
  "metadata": {
    "colab": {
      "provenance": []
    },
    "kernelspec": {
      "name": "python3",
      "display_name": "Python 3"
    },
    "language_info": {
      "name": "python"
    }
  },
  "cells": [
    {
      "cell_type": "code",
      "execution_count": null,
      "metadata": {
        "id": "lptxT5QZhtPx"
      },
      "outputs": [],
      "source": [
        "import pandas as pd\n",
        "import numpy as np\n",
        "from sklearn.datasets import load_iris\n",
        "import matplotlib.pyplot as plt"
      ]
    },
    {
      "cell_type": "code",
      "source": [
        "# Iris veri setini yükleme\n",
        "iris = load_iris()\n",
        "\n",
        "# Veri setini DataFrame'e dönüştürme\n",
        "df = pd.DataFrame(data=iris.data, columns=iris.feature_names)\n",
        "\n",
        "# DataFrame'i gösterme\n",
        "print(df)"
      ],
      "metadata": {
        "id": "lG9fgK4wiPl2"
      },
      "execution_count": null,
      "outputs": []
    },
    {
      "cell_type": "code",
      "source": [
        "from sklearn.datasets import load_iris\n",
        "from sklearn.model_selection import train_test_split\n",
        "from sklearn.svm import SVC\n",
        "\n",
        "# Iris veri setini yükleme\n",
        "iris = load_iris()\n",
        "\n",
        "# Eğitim ve test setlerine ayırma\n",
        "X_train, X_test, y_train, y_test = train_test_split(iris.data, iris.target, test_size=0.3, random_state=42)\n",
        "\n",
        "# SVM modelini oluşturma ve eğitme\n",
        "model = SVC(kernel='linear')\n",
        "model.fit(X_train, y_train)\n",
        "\n",
        "# Verilen özelliklerle tahmin yapma\n",
        "new_data = [[5.0, 3.5, 1.5, 0.2]]  # sepal length, sepal width, petal length, petal width\n",
        "predicted_class = model.predict(new_data)\n",
        "\n",
        "# Tahmin edilen iris çiçeği türünü yazdırma\n",
        "print(\"Tahmin edilen iris çiçeği türü:\", iris.target_names[predicted_class[0]])\n",
        "\n",
        "# Eğitim ve test veri setleri için doğruluk oranı hesaplama\n",
        "accuracy_train = model.score(X_train, y_train)\n",
        "accuracy_test = model.score(X_test, y_test)\n",
        "\n",
        "print('Eğitim Seti Doğruluk Oranı:', accuracy_train)\n",
        "print('Test Seti Doğruluk Oranı:', accuracy_test)"
      ],
      "metadata": {
        "id": "EkMoe70LiTSp"
      },
      "execution_count": null,
      "outputs": []
    }
  ]
}